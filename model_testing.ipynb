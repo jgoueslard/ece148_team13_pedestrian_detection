{
 "cells": [
  {
   "cell_type": "markdown",
   "metadata": {},
   "source": [
    "Folder definiton :"
   ]
  },
  {
   "cell_type": "code",
   "execution_count": 1,
   "metadata": {},
   "outputs": [],
   "source": [
    "import os\n",
    "\n",
    "root = os.path.abspath(r\"./\")\n",
    "image_folder = os.path.abspath(r\"./data_model_testing/\")"
   ]
  },
  {
   "cell_type": "code",
   "execution_count": 4,
   "metadata": {
    "vscode": {
     "languageId": "shellscript"
    }
   },
   "outputs": [
    {
     "name": "stdout",
     "output_type": "stream",
     "text": [
      "\u001b[34m\u001b[1mdetect: \u001b[0mweights=['./weights/best.pt'], source=./data_model_testing/jules, data=yolov5/data/coco128.yaml, imgsz=[640, 640], conf_thres=0.25, iou_thres=0.45, max_det=1000, device=, view_img=False, save_txt=True, save_conf=True, save_crop=False, nosave=False, classes=None, agnostic_nms=False, augment=False, visualize=False, update=False, project=./detection_results, name=exp, exist_ok=True, line_thickness=3, hide_labels=False, hide_conf=False, half=False, dnn=False, vid_stride=1\n",
      "YOLOv5 🚀 v7.0-4-g7398d2d Python-3.9.12 torch-1.13.0 CPU\n",
      "\n",
      "Fusing layers... \n",
      "Model summary: 290 layers, 20852934 parameters, 0 gradients, 47.9 GFLOPs\n",
      "image 1/1 /Users/jgoueslard/Documents/IMT_Lille_Douai/Cours/M2_UCSD/ECE_148_Autonomous_Vehicle/ece148_team13_pedestrian_detection/data_model_testing/jules/photo_profil_jgoueslard.JPG: 640x480 (no detections), 945.9ms\n",
      "Speed: 5.7ms pre-process, 945.9ms inference, 7.0ms NMS per image at shape (1, 3, 640, 640)\n",
      "Results saved to \u001b[1mdetection_results/exp\u001b[0m\n",
      "2 labels saved to detection_results/exp/labels\n"
     ]
    }
   ],
   "source": [
    "!python ./yolov5/detect.py --source ./data_model_testing/jules --weights ./weights/best.pt --project ./detection_results  --save-txt --save-conf --exist-ok"
   ]
  }
 ],
 "metadata": {
  "kernelspec": {
   "display_name": "Python 3",
   "language": "python",
   "name": "python3"
  },
  "language_info": {
   "codemirror_mode": {
    "name": "ipython",
    "version": 3
   },
   "file_extension": ".py",
   "mimetype": "text/x-python",
   "name": "python",
   "nbconvert_exporter": "python",
   "pygments_lexer": "ipython3",
   "version": "3.10.9 (tags/v3.10.9:1dd9be6, Dec  6 2022, 20:01:21) [MSC v.1934 64 bit (AMD64)]"
  },
  "orig_nbformat": 4,
  "vscode": {
   "interpreter": {
    "hash": "8c96d638cd26c3921e3c3a54a40c5ff48f55810473515225ff78801c8ea9f0ce"
   }
  }
 },
 "nbformat": 4,
 "nbformat_minor": 2
}
